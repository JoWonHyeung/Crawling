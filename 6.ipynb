{
 "cells": [
  {
   "cell_type": "code",
   "execution_count": null,
   "id": "71d8169c",
   "metadata": {},
   "outputs": [],
   "source": [
    "print(\"=\"*100)\n",
    "print(\"공모전/대외활동 크롤링\")\n",
    "print(\"=\"*100)"
   ]
  },
  {
   "cell_type": "code",
   "execution_count": 1,
   "id": "81f256a6",
   "metadata": {},
   "outputs": [],
   "source": [
    "#1. 정보 Init\n",
    "import datetime\n",
    "now = datetime.datetime.now()\n",
    "query_txt = \"데이터\"\n",
    "f_dir = \"c://tmp//\"\n",
    "\n",
    "fx_name = f_dir + f'{query_txt}-{now.year}-{now.month:02}-{now.day:02}' + '.txt'"
   ]
  },
  {
   "cell_type": "code",
   "execution_count": 2,
   "id": "bc620095",
   "metadata": {},
   "outputs": [],
   "source": [
    "#2. driver 실행\n",
    "from selenium import webdriver\n",
    "import time\n",
    "\n",
    "chrome_path = \"c://tmp//chromedriver.exe\"\n",
    "\n",
    "options = webdriver.ChromeOptions()\n",
    "options.add_experimental_option(\"excludeSwitches\", [\"enable-logging\"])\n",
    "driver = webdriver.Chrome(chrome_path,options=options)\n",
    "driver.get(\"https://thinkyou.co.kr/index.asp\")\n",
    "driver.maximize_window() \n",
    "time.sleep(3)"
   ]
  },
  {
   "cell_type": "code",
   "execution_count": 3,
   "id": "02f0d23a",
   "metadata": {},
   "outputs": [],
   "source": [
    "#3. '공모전/대외활동' 마우스 위에 올리고, 클릭\n",
    "from selenium.webdriver.common.action_chains import ActionChains\n",
    "\n",
    "a = ActionChains(driver)\n",
    "m= driver.find_element_by_xpath('//*[@id=\"gnb\"]/li[1]/a/span')\n",
    "a.move_to_element(m).perform()\n",
    "time.sleep(0.5)\n",
    "\n",
    "driver.find_element_by_xpath('//*[@id=\"gnb\"]/li[1]/ul/li[1]').click()"
   ]
  },
  {
   "cell_type": "code",
   "execution_count": 4,
   "id": "fbdee772",
   "metadata": {},
   "outputs": [],
   "source": [
    "#4. '검색'에서 공모전 클릭, '데이터' 입력\n",
    "driver.find_element_by_xpath('//*[@id=\"searchFrm\"]/div/div/div[1]/select').click()\n",
    "driver.find_element_by_xpath('//*[@id=\"searchFrm\"]/div/div/div[1]/select/option[2]').click()\n",
    "\n",
    "driver.find_element_by_xpath('//*[@id=\"searchFrm\"]/div/div/div[1]/span/input[1]').click()\n",
    "elem = driver.find_element_by_name(\"searchstr\")\n",
    "elem.send_keys(query_txt)\n",
    "elem.send_keys(\"\\n\")\n",
    "time.sleep(2)\n",
    "\n",
    "#일단 여러개의 데이터 긁어 오는 경우를 생각하여 '접수중'클릭 나중에 구현\n",
    "#driver.find_element_by_xpath('//*[@id=\"contents\"]/div[2]/div[1]/a[3]').click()\n",
    "#time.sleep(1)"
   ]
  },
  {
   "cell_type": "code",
   "execution_count": 5,
   "id": "d7539035",
   "metadata": {},
   "outputs": [],
   "source": [
    "#5. url수집\n",
    "from bs4 import BeautifulSoup\n",
    "urls =[]\n",
    "default_dir = \"https://thinkyou.co.kr\"\n",
    "count = 0\n",
    "\n",
    "html = driver.page_source\n",
    "soup = BeautifulSoup(html, 'html.parser')\n",
    "\n",
    "all = soup.find('div','contestArea').find_all('div','title')\n",
    "\n",
    "for i in all:\n",
    "    a_tag = i.find('a')['href']\n",
    "    urls.append(default_dir + a_tag)\n",
    "    count+=1"
   ]
  },
  {
   "cell_type": "code",
   "execution_count": 6,
   "id": "2e42413e",
   "metadata": {
    "scrolled": true
   },
   "outputs": [
    {
     "ename": "KeyboardInterrupt",
     "evalue": "",
     "output_type": "error",
     "traceback": [
      "\u001b[1;31m---------------------------------------------------------------------------\u001b[0m",
      "\u001b[1;31mKeyboardInterrupt\u001b[0m                         Traceback (most recent call last)",
      "\u001b[1;32m~\\AppData\\Local\\Temp/ipykernel_13236/1503965392.py\u001b[0m in \u001b[0;36m<module>\u001b[1;34m\u001b[0m\n\u001b[0;32m     48\u001b[0m         \u001b[0mfile_no\u001b[0m \u001b[1;33m+=\u001b[0m \u001b[1;36m1\u001b[0m\u001b[1;33m\u001b[0m\u001b[1;33m\u001b[0m\u001b[0m\n\u001b[0;32m     49\u001b[0m \u001b[1;33m\u001b[0m\u001b[0m\n\u001b[1;32m---> 50\u001b[1;33m     \u001b[0mtime\u001b[0m\u001b[1;33m.\u001b[0m\u001b[0msleep\u001b[0m\u001b[1;33m(\u001b[0m\u001b[1;36m1\u001b[0m\u001b[1;33m)\u001b[0m\u001b[1;33m\u001b[0m\u001b[1;33m\u001b[0m\u001b[0m\n\u001b[0m",
      "\u001b[1;31mKeyboardInterrupt\u001b[0m: "
     ]
    }
   ],
   "source": [
    "#6. url접속 및 이미지 수집\n",
    "import urllib.request\n",
    "import urllib\n",
    "import os\n",
    "import shutil\n",
    "import sys\n",
    "from urllib.parse import quote\n",
    "from selenium.webdriver.common.keys import Keys\n",
    "\n",
    "def createDirectory(directory): \n",
    "    if os.path.exists(directory): #존재하면 제거후 생성\n",
    "        shutil.rmtree(directory)\n",
    "    os.mkdir(directory)\n",
    "\n",
    "bmp_map = dict.fromkeys(range(0x10000,sys.maxunicode + 1),0xfffd)\n",
    "count = 0\n",
    "file_no = 1\n",
    "image_path = f_dir + 'images//'\n",
    "createDirectory(image_path)\n",
    "\n",
    "for num in range(0,len(urls)):\n",
    "    driver.get(urls[num]) #사이트 접속\n",
    "\n",
    "    html1 = driver.page_source\n",
    "    soup1 = BeautifulSoup(html1,'html.parser')\n",
    "    \n",
    "    #Title 수집\n",
    "    title = soup1.find('dl','title').find('h1').get_text()\n",
    "    \n",
    "    f = open(fx_name,'a',encoding='UTF-8')\n",
    "    f.write(title + '\\n')\n",
    "    f.close()\n",
    "    \n",
    "    # 이미지 확대\n",
    "    driver.find_element_by_xpath('//*[@id=\"printArea\"]/div[1]/div/div[1]/img').click()\n",
    "    \n",
    "    html2 = driver.page_source\n",
    "    soup2 = BeautifulSoup(html2,'html.parser')\n",
    "    \n",
    "    \n",
    "    #이미지 수집\n",
    "    try:\n",
    "        photo = soup2.find('div','galleryImg').find('img')['src']\n",
    "    except:\n",
    "        continue\n",
    "    else:\n",
    "        urllib.request.urlretrieve('https://thinkyou.co.kr/' + quote(photo),image_path + str(file_no) + '.jpg')\n",
    "        file_no += 1\n",
    "    \n",
    "    time.sleep(1)\n",
    "    \n",
    "driver.close()"
   ]
  },
  {
   "cell_type": "code",
   "execution_count": null,
   "id": "8d254161",
   "metadata": {},
   "outputs": [],
   "source": []
  }
 ],
 "metadata": {
  "kernelspec": {
   "display_name": "Python 3 (ipykernel)",
   "language": "python",
   "name": "python3"
  },
  "language_info": {
   "codemirror_mode": {
    "name": "ipython",
    "version": 3
   },
   "file_extension": ".py",
   "mimetype": "text/x-python",
   "name": "python",
   "nbconvert_exporter": "python",
   "pygments_lexer": "ipython3",
   "version": "3.8.5"
  }
 },
 "nbformat": 4,
 "nbformat_minor": 5
}

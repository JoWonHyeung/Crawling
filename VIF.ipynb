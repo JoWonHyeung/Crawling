{
 "cells": [
  {
   "cell_type": "code",
   "execution_count": null,
   "id": "14bcbb65",
   "metadata": {},
   "outputs": [],
   "source": [
    "from statsmodels.stats.outliers_influence import variance_inflation_factor\n",
    "\n",
    "\n",
    "vif_valid_df = df[[]]\n",
    "\n",
    "vif = pd.DataFrame()\n",
    "vif[\"VIF Factor\"] = [variance_inflation_factor(\n",
    "    vif_valid_df.values, i) for i in range(vif_valid_df.shape[1])]\n",
    "vif[\"features\"] = vif_valid_df.columns\n",
    "vif = vif.sort_values(\"VIF Factor\").reset_index(drop=True)\n",
    "vif"
   ]
  }
 ],
 "metadata": {
  "kernelspec": {
   "display_name": "Python 3 (ipykernel)",
   "language": "python",
   "name": "python3"
  },
  "language_info": {
   "codemirror_mode": {
    "name": "ipython",
    "version": 3
   },
   "file_extension": ".py",
   "mimetype": "text/x-python",
   "name": "python",
   "nbconvert_exporter": "python",
   "pygments_lexer": "ipython3",
   "version": "3.9.7"
  }
 },
 "nbformat": 4,
 "nbformat_minor": 5
}

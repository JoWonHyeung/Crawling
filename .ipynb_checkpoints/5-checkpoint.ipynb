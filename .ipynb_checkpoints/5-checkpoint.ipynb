{
 "cells": [
  {
   "cell_type": "code",
   "execution_count": null,
   "id": "72f7cdc8",
   "metadata": {},
   "outputs": [],
   "source": [
    "print(\"=\"*100)\n",
    "print(\"인스타그램 해시태그 수집\")\n",
    "print(\"=\"*100)"
   ]
  },
  {
   "cell_type": "code",
   "execution_count": null,
   "id": "3278aebf",
   "metadata": {},
   "outputs": [],
   "source": [
    "#1 정보입력\n",
    "import datetime\n",
    "\n",
    "id = input(\"1. ID를 입력하세요: \")\n",
    "pwd = input(\"2. Password를 입력하세요:\")\n",
    "query_txt = input(\"3. 키워드를 입력하세요(ex.강남맛집):\")\n",
    "cnt = int(input(\"4. 수집할 건수를 입력하세요: \"))\n",
    "fir = input(\"5. 경로를 입력하세요(ex: c://tmp//): \")\n",
    "\n",
    "now = datetime.datetime.now()\n",
    "\n",
    "fx_name = fir + f'Instagram-{query_txt}-{now.year}-{now.month:02}-{now.day:02}' + '.txt'\n",
    "fc_name = fir + f'Instagram-{query_txt}-{now.year}-{now.month:02}-{now.day:02}' + '.csv'"
   ]
  },
  {
   "cell_type": "code",
   "execution_count": null,
   "id": "9f88d0b0",
   "metadata": {},
   "outputs": [],
   "source": [
    "#2 driver 실행\n",
    "from selenium import webdriver\n",
    "chrome_path = \"C://tmp//chromedriver.exe\"\n",
    "\n",
    "options = webdriver.ChromeOptions()\n",
    "options.add_experimental_option(\"excludeSwitches\", [\"enable-logging\"])\n",
    "driver = webdriver.Chrome(chrome_path,options=options)\n",
    "driver.get(\"https://www.instagram.com/accounts/login/\")\n",
    "time.sleep(1)"
   ]
  },
  {
   "cell_type": "code",
   "execution_count": null,
   "id": "3304d555",
   "metadata": {},
   "outputs": [],
   "source": [
    "#3 ID,PWD 입력\n",
    "import time\n",
    "\n",
    "eid = driver.find_element_by_name('username')\n",
    "for a in id:\n",
    "    eid.send_keys(a)\n",
    "    time.sleep(0.3)\n",
    "    \n",
    "epwd = driver.find_element_by_name('password')\n",
    "for b in pwd:\n",
    "    epwd.send_keys(b)\n",
    "    time.sleep(0.3)\n",
    "    "
   ]
  },
  {
   "cell_type": "code",
   "execution_count": null,
   "id": "0423dc98",
   "metadata": {},
   "outputs": [],
   "source": [
    "#4 '로그인' 클릭\n",
    "driver.find_element_by_xpath(\"//*[@id='loginForm']/div/div[3]/button/div\").click()"
   ]
  },
  {
   "cell_type": "code",
   "execution_count": null,
   "id": "cd851882",
   "metadata": {},
   "outputs": [],
   "source": [
    "#5 '나중에 하기' 클릭\n",
    "driver.find_element_by_xpath(\"//*[@id='react-root']/section/main/div/div/div/div/button\").click()"
   ]
  },
  {
   "cell_type": "code",
   "execution_count": null,
   "id": "284e575d",
   "metadata": {},
   "outputs": [],
   "source": [
    "#6 '나중에 하기' 클릭\n",
    "driver.find_element_by_xpath(\"/html/body/div[5]/div/div/div/div[3]/button[2]\").click()"
   ]
  },
  {
   "cell_type": "code",
   "execution_count": null,
   "id": "94b75690",
   "metadata": {},
   "outputs": [],
   "source": [
    "#7 키워드 검색버튼 누르기\n",
    "driver.find_element_by_xpath(\"//*[@id='react-root']/section/nav/div[2]/div/div/div[2]/input\").click()"
   ]
  },
  {
   "cell_type": "code",
   "execution_count": null,
   "id": "7965ef53",
   "metadata": {},
   "outputs": [],
   "source": [
    "#8 키워드 검색하기\n",
    "keys = driver.find_element_by_xpath(\"//*[@id='react-root']/section/nav/div[2]/div/div/div[2]/input\")\n",
    "for i in query_txt:\n",
    "    keys.send_keys(i)\n",
    "    time.sleep(0.3)"
   ]
  },
  {
   "cell_type": "code",
   "execution_count": null,
   "id": "764d4d45",
   "metadata": {},
   "outputs": [],
   "source": [
    "#9 맨위에 키워드 선택하기\n",
    "driver.find_element_by_xpath(\"//*[@id='react-root']/section/nav/div[2]/div/div/div[2]/div[3]/div/div[2]/div/div[1]/a/div\").click()"
   ]
  },
  {
   "cell_type": "code",
   "execution_count": null,
   "id": "f360dbd8",
   "metadata": {},
   "outputs": [],
   "source": [
    "#10 scroll down 함수 구현\n",
    "def scroll_down(driver):\n",
    "    driver.execute_script(\"window.scrollTo(0,document.body.scrollHeight);\")\n",
    "    time.sleep(5)\n",
    "    \n",
    "i = 1\n",
    "while 1 <= cnt:\n",
    "    scroll_down(driver)\n",
    "    i += 1"
   ]
  },
  {
   "cell_type": "code",
   "execution_count": null,
   "id": "a304d856",
   "metadata": {},
   "outputs": [],
   "source": [
    "#11 url,이미지 수집\n",
    "from bs4 import BeautifulSoup\n",
    "\n",
    "urls = []\n",
    "count = 0\n",
    "\n",
    "html = driver.page_source\n",
    "soup = BeautifulSoup(html,'html.parser')\n",
    "\n",
    "all = soup.find('article','KC1QD').find_all('a') \n",
    "\n",
    "for i in all:\n",
    "    #url\n",
    "    tmp = i['href']\n",
    "    url = 'https://www.instagram.com' + tmp\n",
    "    urls.append(url)\n",
    "    count+=1\n",
    "    \n",
    "    if count > cnt: #해당 개수 만족시 탈출\n",
    "        break\n"
   ]
  },
  {
   "cell_type": "code",
   "execution_count": null,
   "id": "1f0ab4ad",
   "metadata": {},
   "outputs": [],
   "source": [
    "#12 태그 수집\n",
    "import sys\n",
    "import unicodedata\n",
    "import urllib.request\n",
    "import urllib\n",
    "import time\n",
    "import os\n",
    "\n",
    "bmp_map = dict.fromkeys(range(0x10000,sys.maxunicode + 1),0xfffd)\n",
    "hash_txt = []\n",
    "count = 0\n",
    "file_no = 1\n",
    "\n",
    "image_path = fir + 'images//' \n",
    "os.mkdir(image_path)\n",
    "\n",
    "for c in range(0,len(urls)):\n",
    "    driver.get(urls[c]) #사이트 요청\n",
    "    \n",
    "    html = driver.page_source\n",
    "    soup = BeautifulSoup(html,'html.parser')\n",
    "    \n",
    "    f = open(fx_name,'a',encoding='UTF-8')\n",
    "    \n",
    "    tags = soup.find('div','EtaWk')\n",
    "    \n",
    "    #해시태그 수집\n",
    "    try:\n",
    "        tag = soup.find_all('a')\n",
    "    except:\n",
    "        continue\n",
    "    else:\n",
    "        for d in range(0,len(tag)):\n",
    "            tag_text = tag[d].get_text()\n",
    "            tag_1 = tag_text.translate(bmp_map)\n",
    "            tag_2 = unicodedata.normalize('NFC',tag_1)\n",
    "            \n",
    "            for i in tag_2:\n",
    "                if i[0:1] == '#':\n",
    "                    hash_txt.append(tag_2)\n",
    "                    print(tag_2)\n",
    "                    f.write(\"/n\" + str(tag_2))               \n",
    "    #이미지 수집\n",
    "    try:\n",
    "        photo = soup.find('div','KL4Bh').find('img')['src']\n",
    "    except:\n",
    "        continue\n",
    "    else:\n",
    "        urllib.request.urlretrieve(photo,image_path + str(file_no) + '.jpg')\n",
    "        time.sleep(0.5)\n",
    "        file_no += 1\n",
    "    \n",
    "    f.close()\n"
   ]
  }
 ],
 "metadata": {
  "kernelspec": {
   "display_name": "Python 3 (ipykernel)",
   "language": "python",
   "name": "python3"
  },
  "language_info": {
   "codemirror_mode": {
    "name": "ipython",
    "version": 3
   },
   "file_extension": ".py",
   "mimetype": "text/x-python",
   "name": "python",
   "nbconvert_exporter": "python",
   "pygments_lexer": "ipython3",
   "version": "3.8.5"
  }
 },
 "nbformat": 4,
 "nbformat_minor": 5
}

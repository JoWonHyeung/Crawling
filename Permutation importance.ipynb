{
 "cells": [
  {
   "cell_type": "code",
   "execution_count": 5,
   "id": "fc4ad681",
   "metadata": {},
   "outputs": [
    {
     "name": "stdout",
     "output_type": "stream",
     "text": [
      "r2 score:  0.35666062386954556\n"
     ]
    }
   ],
   "source": [
    "from sklearn.datasets import load_diabetes\n",
    "from sklearn.model_selection import train_test_split\n",
    "from sklearn.linear_model import Ridge\n",
    "from sklearn.metrics import r2_score\n",
    "\n",
    "diabetes = load_diabetes()\n",
    "X_train, X_test, y_train, y_test = train_test_split(diabetes.data,diabetes.target,random_state=0)\n",
    "\n",
    "model = Ridge(alpha=1e-2).fit(X_train,y_train)\n",
    "y_pred = model.predict(X_test)\n",
    "print(\"r2 score: \", r2_score(y_test,y_pred))"
   ]
  },
  {
   "cell_type": "code",
   "execution_count": 7,
   "id": "5f207103",
   "metadata": {},
   "outputs": [
    {
     "name": "stdout",
     "output_type": "stream",
     "text": [
      "s5   0.2042 +/- 0.04965\n",
      "bmi   0.1758 +/- 0.0484\n",
      "bp   0.0884 +/- 0.03284\n",
      "sex   0.0559 +/- 0.02319\n"
     ]
    }
   ],
   "source": [
    "from sklearn.inspection import permutation_importance\n",
    "import numpy as np\n",
    "\n",
    "r = permutation_importance(model, X_test, y_test, n_repeats=30,random_state=0)\n",
    "\n",
    "for i in r.importances_mean.argsort()[::-1]:\n",
    "    if r.importances_mean[i] - 2 * r.importances_std[i] > 0:\n",
    "        print(diabetes.feature_names[i],\" \",np.round(r.importances_mean[i],4), \"+/-\", np.round(r.importances_std[i],5))"
   ]
  }
 ],
 "metadata": {
  "kernelspec": {
   "display_name": "Python 3 (ipykernel)",
   "language": "python",
   "name": "python3"
  },
  "language_info": {
   "codemirror_mode": {
    "name": "ipython",
    "version": 3
   },
   "file_extension": ".py",
   "mimetype": "text/x-python",
   "name": "python",
   "nbconvert_exporter": "python",
   "pygments_lexer": "ipython3",
   "version": "3.9.7"
  }
 },
 "nbformat": 4,
 "nbformat_minor": 5
}
